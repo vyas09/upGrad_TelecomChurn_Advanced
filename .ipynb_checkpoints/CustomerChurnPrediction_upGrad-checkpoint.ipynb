{
 "cells": [
  {
   "cell_type": "markdown",
   "id": "a7ff2fcb",
   "metadata": {},
   "source": [
    "# Customer Churn Prediction\n",
    "## Collaborative Notebook for upGrad Case Study"
   ]
  },
  {
   "cell_type": "code",
   "execution_count": 2,
   "id": "ac1e2540",
   "metadata": {},
   "outputs": [],
   "source": [
    "# Importing standard libraries\n",
    "\n",
    "import numpy as np\n",
    "import pandas as pd\n",
    "import matplotlib.pyplot as plt\n",
    "import seaborn as sns\n",
    "\n",
    "\n",
    "import warnings\n",
    "warnings.filterwarnings('ignore')"
   ]
  },
  {
   "cell_type": "code",
   "execution_count": null,
   "id": "336bdea1",
   "metadata": {},
   "outputs": [],
   "source": [
    "# Imporing data\n",
    "df = pd.read_csv('telecom_churn_data.csv')"
   ]
  },
  {
   "cell_type": "code",
   "execution_count": null,
   "id": "ae4bce98",
   "metadata": {},
   "outputs": [],
   "source": []
  }
 ],
 "metadata": {
  "kernelspec": {
   "display_name": "Python 3",
   "language": "python",
   "name": "python3"
  },
  "language_info": {
   "codemirror_mode": {
    "name": "ipython",
    "version": 3
   },
   "file_extension": ".py",
   "mimetype": "text/x-python",
   "name": "python",
   "nbconvert_exporter": "python",
   "pygments_lexer": "ipython3",
   "version": "3.8.8"
  }
 },
 "nbformat": 4,
 "nbformat_minor": 5
}
